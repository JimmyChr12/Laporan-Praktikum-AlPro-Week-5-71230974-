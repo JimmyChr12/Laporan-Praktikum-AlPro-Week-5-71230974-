{
 "cells": [
  {
   "cell_type": "code",
   "execution_count": 6,
   "id": "2ee1f04a",
   "metadata": {},
   "outputs": [
    {
     "name": "stdout",
     "output_type": "stream",
     "text": [
      "6 x 5 = 5 + 5 + 5 + 5 + 5 + 5 = 30.\n",
      "7 x 10 = 10 + 10 + 10 + 10 + 10 + 10 + 10 = 70.\n"
     ]
    }
   ],
   "source": [
    "def perkalian(bilangan_pertama, bilangan_kedua):\n",
    "    hasil = 0\n",
    "    print (bilangan_pertama, \"x\", bilangan_kedua, end = \" = \")\n",
    "    for i in range(bilangan_pertama-1):\n",
    "        hasil = hasil + bilangan_kedua\n",
    "        print (bilangan_kedua, end = ' + ')\n",
    "    print (bilangan_kedua, end = ' ')\n",
    "    hasil = hasil + bilangan_kedua\n",
    "    print (\"=\", hasil, end = \".\\n\")\n",
    "    \n",
    "perkalian(6,5)\n",
    "perkalian(7,10)"
   ]
  },
  {
   "cell_type": "code",
   "execution_count": 8,
   "id": "b5252f60",
   "metadata": {},
   "outputs": [
    {
     "name": "stdout",
     "output_type": "stream",
     "text": [
      "Masukkan batas bawah: 97\n",
      "Masukkan batas atas: 82\n",
      "bawah = 97, atas = 82. Karena bawah > atas, berarti dari besar ke kecil, maka hasilnya\n",
      "adalah: 97, 95, 93, 91, 89, 87, 85, 83."
     ]
    }
   ],
   "source": [
    "def ganjil ():\n",
    "    batas_bawah = int(input(\"Masukkan batas bawah: \"))\n",
    "    batas_atas = int(input(\"Masukkan batas atas: \"))\n",
    "\n",
    "    if batas_bawah < batas_atas:\n",
    "        print(\"bawah = \"+ str(batas_bawah) +\", atas = \"+ str(batas_atas), end = \". \" + \"Karena bawah < atas, berarti dari kecil ke besar, maka hasilnya\")\n",
    "        print(\"\\nadalah:\", end = \" \")\n",
    "        for i in range(batas_bawah, batas_atas-2):\n",
    "            if i % 2 != 0:\n",
    "                x = i\n",
    "                print (i, end = ', ')\n",
    "        x += 2\n",
    "        if x < batas_atas:\n",
    "            print (x, end = \"\")\n",
    "            if x + 2 < batas_atas:\n",
    "                print (x + 2, end = \".\")\n",
    "            else:\n",
    "                print (end = \".\")\n",
    "\n",
    "    elif batas_bawah > batas_atas:\n",
    "        print(\"bawah = \"+ str(batas_bawah) +\", atas = \"+ str(batas_atas), end = \". \" + \"Karena bawah > atas, berarti dari besar ke kecil, maka hasilnya\")\n",
    "        print(\"\\nadalah:\", end = \" \")\n",
    "        for i in range(batas_bawah, batas_atas+2,-1):\n",
    "            if i % 2 != 0:\n",
    "                x = i\n",
    "                print (i, end = ', ')\n",
    "        x -= 2\n",
    "        if x > batas_atas:\n",
    "            print (x, end = \"\")\n",
    "            if x - 2 > batas_atas:\n",
    "                print (x - 2, end = \".\")\n",
    "            else:\n",
    "                print (end = \".\")\n",
    "ganjil()"
   ]
  },
  {
   "cell_type": "code",
   "execution_count": 3,
   "id": "e0f424bb",
   "metadata": {},
   "outputs": [
    {
     "name": "stdout",
     "output_type": "stream",
     "text": [
      "Berapa jumlah mata kuliah? 8\n",
      "Nilai MK 1: A\n",
      "Nilai MK 2: B\n",
      "Nilai MK 3: A\n",
      "Nilai MK 4: C\n",
      "Nilai MK 5: A\n",
      "Nilai MK 6: B\n",
      "Nilai MK 7: A\n",
      "Nilai MK 8: B\n",
      "Nilai IPS anda semester ini 3.38\n"
     ]
    }
   ],
   "source": [
    "jumlah_mata_kuliah = int(input(\"Berapa jumlah mata kuliah? \"))\n",
    "nilai_angka = 0\n",
    "for i in range(jumlah_mata_kuliah):\n",
    "    nilai_huruf = str(input(\"Nilai MK \"+ str(i+1) +\": \"))\n",
    "    if nilai_huruf == \"A\":\n",
    "        nilai_angka = nilai_angka + 4\n",
    "    elif nilai_huruf == \"B\":\n",
    "        nilai_angka = nilai_angka + 3\n",
    "    elif nilai_huruf == \"C\":\n",
    "        nilai_angka = nilai_angka + 2\n",
    "    elif nilai_huruf == \"D\":\n",
    "        nilai_angka = nilai_angka + 1\n",
    "\n",
    "ips = nilai_angka * 3 / (jumlah_mata_kuliah * 3)\n",
    "print (\"Nilai IPS anda semester ini\", round(ips,2))"
   ]
  }
 ],
 "metadata": {
  "kernelspec": {
   "display_name": "Python 3 (ipykernel)",
   "language": "python",
   "name": "python3"
  },
  "language_info": {
   "codemirror_mode": {
    "name": "ipython",
    "version": 3
   },
   "file_extension": ".py",
   "mimetype": "text/x-python",
   "name": "python",
   "nbconvert_exporter": "python",
   "pygments_lexer": "ipython3",
   "version": "3.11.5"
  }
 },
 "nbformat": 4,
 "nbformat_minor": 5
}
